{
 "cells": [
  {
   "cell_type": "code",
   "execution_count": 2,
   "metadata": {},
   "outputs": [],
   "source": [
    "# !pip install neo4j\n",
    "import neo4j\n",
    "import pandas as pd"
   ]
  },
  {
   "cell_type": "code",
   "execution_count": 84,
   "metadata": {},
   "outputs": [],
   "source": [
    "def connect_db():\n",
    "    driver = neo4j.GraphDatabase.driver(uri=\"neo4j://0.0.0.0:7687\", auth=(\"neo4j\",\"password\"))\n",
    "    session = driver.session(database=\"neo4j\")\n",
    "    return session\n",
    "    \n",
    "def wipe_out_db(session):\n",
    "    # wipe out database by deleting all nodes and relationships\n",
    "    \n",
    "    # similar to SELECT * FROM graph_db in SQL\n",
    "    query = \"match (node)-[relationship]->() delete node, relationship\"\n",
    "    session.run(query)\n",
    "    \n",
    "    query = \"match (node) delete node\"\n",
    "    session.run(query)\n",
    "\n",
    "session = connect_db()\n",
    "wipe_out_db(session) "
   ]
  },
  {
   "cell_type": "code",
   "execution_count": 65,
   "metadata": {},
   "outputs": [],
   "source": [
    "def run_query_to_pandas(session, query):\n",
    "    # run a query and return the results in a pandas dataframe\n",
    "    \n",
    "    result = session.run(query)\n",
    "    \n",
    "    df = pd.DataFrame([r.values() for r in result], columns=result.keys())\n",
    "    \n",
    "    return df\n",
    "\n",
    "def run_query_print_raw(session, query):\n",
    "    result = session.run(query)\n",
    "    \n",
    "    for r in result:\n",
    "        print(r.values())"
   ]
  },
  {
   "cell_type": "markdown",
   "metadata": {},
   "source": [
    "#### Data Insertion "
   ]
  },
  {
   "cell_type": "code",
   "execution_count": 85,
   "metadata": {},
   "outputs": [
    {
     "data": {
      "text/plain": [
       "<neo4j._sync.work.result.Result at 0x110390bb0>"
      ]
     },
     "execution_count": 85,
     "metadata": {},
     "output_type": "execute_result"
    }
   ],
   "source": [
    "query = \"\"\"\n",
    "\n",
    "CREATE\n",
    "    \n",
    "    // Insert User Nodes //\n",
    "    (Qi:User{username: 'qlin1', first_name: 'Qi', last_name: 'L', email: 'qlin1@vandy.edu', class:2024, company: 'Deloitte', location: 'New York', interests: ['cooking', 'finance', 'chess']}),\n",
    "    (Sam:User{username: 'sam1', first_name: 'Sam', last_name: 'A', email: 'sam1@vandy.edu', class:2024, company: 'Deloitte', location: 'Chicago', interests: ['travel', 'music', 'biking']}),\n",
    "    (Promod:User{username: 'prom1', first_name: 'Promod', last_name: 'R', email: 'prom1@vandy.edu', class:2024, company: 'Barclays', location: 'New York', interests: ['finance', 'gardening', 'gaming']}),\n",
    "    (Ji:User{username: 'ji1', first_name: 'Ji', last_name: 'N', email: 'ji1@vandy.edu', class:2024, company: 'Adobe', location: 'Austin', interests: ['photography', 'cooking', 'hiking']}),\n",
    "    (Minu:User{username: 'minu1', first_name: 'Minu', last_name: 'S', email: 'minu1@vandy.edu', class:2024, company: 'DSI', location: 'Nashville', interests: ['golf', 'LoL', 'cooking']}),\n",
    "    (John:User{username: 'john1', first_name: 'John', last_name: 'P', email: 'john1@vandy.edu', class:2024, company: 'DSI', location: 'Nashville', interests: ['golf', 'LoL', 'cooking']}),\n",
    "\n",
    "    // Insert Post Nodes //\n",
    "    (post1:Post{post_id: 1, author: \"qlin1\", topic: \"General\", timestamp: datetime(), content: 'Hello World!', date: '2023-11-09', likes_count: 0, comments_count: 0}),\n",
    "    (post2:Post{post_id: 2, author: \"sam1\", topic: \"General\", timestamp: datetime(), content: 'Hello NoSQL!', date: '2023-11-09', likes_count: 0, comments_count: 0}),\n",
    "    (post3:Post{post_id: 3, author: \"prom1\", topic: \"General\", timestamp: datetime(), content: 'Hello Graph!', date: '2023-11-09', likes_count: 0, comments_count: 0}),\n",
    "\n",
    "    // Insert Message Nodes //\n",
    "    (msg1:Message{message_id: 1, sender: \"qlin1\", receiver: \"sam1\", timestamp: datetime(), content: 'Hello Sam!'}),\n",
    "    (msg2:Message{message_id: 2, sender: \"sam1\", receiver: \"qlin1\", timestamp: datetime(), content: 'Hello Qi!'}),\n",
    "    (msg3:Message{message_id: 3, sender: \"ji1\", receiver: \"qlin1\", timestamp: datetime(), content: 'Hello Qi!'}),\n",
    "\n",
    "    // Insert Group Node // \n",
    "    (group1:Group{group_name: \"Class 2024\", description: \"DSI cohort 2024\", members_count: 38, created_by: \"qlin1\"}),\n",
    "\n",
    "    // Insert edge between user and user //\n",
    "    (Qi)-[:FRIENDS_WITH{since: 2022}]->(Sam),\n",
    "    (Qi)-[:FRIENDS_WITH{since: 2022}]->(Promod),\n",
    "    (Qi)-[:FRIENDS_WITH{since: 2022}]->(Ji),\n",
    "    (Sam)-[:FRIENDS_WITH{since: 2022}]->(Promod),\n",
    "    (Sam)-[:FRIENDS_WITH{since: 2022}]->(Ji),\n",
    "    (Promod)-[:FRIENDS_WITH{since: 2022}]->(Ji),\n",
    "    (Minu)-[:FRIENDS_WITH{since: 2022}]->(Ji),\n",
    "\n",
    "    // Insert edge between user and post //\n",
    "    (Qi)-[:POSTED{on_date: date('2023-11-09')}]->(post1),\n",
    "    (Sam)-[:POSTED{on_date: date('2023-11-09')}]->(post2),\n",
    "    (Promod)-[:POSTED{on_date: date('2023-11-09')}]->(post3),\n",
    "\n",
    "    // Insert edge between user and message //\n",
    "    (Qi)-[:SENT_MESSAGE {on_date: date(\"2023-11-09\")}]->(msg1),\n",
    "    (Sam)-[:SENT_MESSAGE {on_date: date(\"2023-11-09\")}]->(msg2),\n",
    "    (Ji)-[:SENT_MESSAGE {on_date: date(\"2023-11-09\")}]->(msg3),\n",
    "    (Qi)-[:RECEIVED_MESSAGE {on_date: date(\"2023-11-09\")}]->(msg2),\n",
    "    (Qi)-[:RECEIVED_MESSAGE {on_date: date(\"2023-11-09\")}]->(msg3),\n",
    "\n",
    "    // Insert edge between user and group //\n",
    "    (Qi)-[:MEMBER_OF {since: date(\"2023-11-09\")}]->(group1),\n",
    "    (Sam)-[:MEMBER_OF {since: date(\"2023-11-09\")}]->(group1),\n",
    "    (Promod)-[:MEMBER_OF {since: date(\"2023-11-09\")}]->(group1),\n",
    "    (Ji)-[:MEMBER_OF {since: date(\"2023-11-09\")}]->(group1)\n",
    "\n",
    "\"\"\"\n",
    "session.run(query)"
   ]
  },
  {
   "cell_type": "markdown",
   "metadata": {},
   "source": [
    "#### Data Retrieval & Querying"
   ]
  },
  {
   "cell_type": "code",
   "execution_count": 21,
   "metadata": {},
   "outputs": [
    {
     "data": {
      "text/html": [
       "<div>\n",
       "<style scoped>\n",
       "    .dataframe tbody tr th:only-of-type {\n",
       "        vertical-align: middle;\n",
       "    }\n",
       "\n",
       "    .dataframe tbody tr th {\n",
       "        vertical-align: top;\n",
       "    }\n",
       "\n",
       "    .dataframe thead th {\n",
       "        text-align: right;\n",
       "    }\n",
       "</style>\n",
       "<table border=\"1\" class=\"dataframe\">\n",
       "  <thead>\n",
       "    <tr style=\"text-align: right;\">\n",
       "      <th></th>\n",
       "      <th>full_name</th>\n",
       "      <th>Email</th>\n",
       "      <th>Class</th>\n",
       "      <th>Company</th>\n",
       "      <th>Location</th>\n",
       "    </tr>\n",
       "  </thead>\n",
       "  <tbody>\n",
       "    <tr>\n",
       "      <th>0</th>\n",
       "      <td>Qi L</td>\n",
       "      <td>qlin1@vandy.edu</td>\n",
       "      <td>2024</td>\n",
       "      <td>Deloitte</td>\n",
       "      <td>New York</td>\n",
       "    </tr>\n",
       "  </tbody>\n",
       "</table>\n",
       "</div>"
      ],
      "text/plain": [
       "  full_name            Email  Class   Company  Location\n",
       "0      Qi L  qlin1@vandy.edu   2024  Deloitte  New York"
      ]
     },
     "metadata": {},
     "output_type": "display_data"
    }
   ],
   "source": [
    "# Retrieve a property of a specific User \n",
    "\n",
    "query = '''\n",
    "    MATCH (u: User)\n",
    "    WHERE u.first_name = 'Qi'\n",
    "    RETURN u.first_name + ' ' + u.last_name AS full_name, u.email as Email, u.class as Class, u.company as Company, u.location as Location\n",
    "'''\n",
    "\n",
    "df = run_query_to_pandas(session, query)\n",
    "display(df)"
   ]
  },
  {
   "cell_type": "code",
   "execution_count": 24,
   "metadata": {},
   "outputs": [
    {
     "data": {
      "text/html": [
       "<div>\n",
       "<style scoped>\n",
       "    .dataframe tbody tr th:only-of-type {\n",
       "        vertical-align: middle;\n",
       "    }\n",
       "\n",
       "    .dataframe tbody tr th {\n",
       "        vertical-align: top;\n",
       "    }\n",
       "\n",
       "    .dataframe thead th {\n",
       "        text-align: right;\n",
       "    }\n",
       "</style>\n",
       "<table border=\"1\" class=\"dataframe\">\n",
       "  <thead>\n",
       "    <tr style=\"text-align: right;\">\n",
       "      <th></th>\n",
       "      <th>full_name</th>\n",
       "      <th>Content</th>\n",
       "      <th>Date</th>\n",
       "      <th>Likes</th>\n",
       "      <th>Comments</th>\n",
       "    </tr>\n",
       "  </thead>\n",
       "  <tbody>\n",
       "    <tr>\n",
       "      <th>0</th>\n",
       "      <td>Qi L</td>\n",
       "      <td>Hello World!</td>\n",
       "      <td>2023-11-09</td>\n",
       "      <td>0</td>\n",
       "      <td>0</td>\n",
       "    </tr>\n",
       "  </tbody>\n",
       "</table>\n",
       "</div>"
      ],
      "text/plain": [
       "  full_name       Content        Date  Likes  Comments\n",
       "0      Qi L  Hello World!  2023-11-09      0         0"
      ]
     },
     "metadata": {},
     "output_type": "display_data"
    }
   ],
   "source": [
    "# Find all Posts created by a specific User\n",
    "query = '''\n",
    "    MATCH (u: User)-[:POSTED]->(p: Post)\n",
    "    WHERE u.first_name = 'Qi'\n",
    "    RETURN u.first_name + ' ' + u.last_name AS full_name, p.content as Content, p.date as Date, p.likes_count as Likes, p.comments_count as Comments\n",
    "'''\n",
    "df = run_query_to_pandas(session, query)\n",
    "display(df)"
   ]
  },
  {
   "cell_type": "code",
   "execution_count": 36,
   "metadata": {},
   "outputs": [
    {
     "data": {
      "text/html": [
       "<div>\n",
       "<style scoped>\n",
       "    .dataframe tbody tr th:only-of-type {\n",
       "        vertical-align: middle;\n",
       "    }\n",
       "\n",
       "    .dataframe tbody tr th {\n",
       "        vertical-align: top;\n",
       "    }\n",
       "\n",
       "    .dataframe thead th {\n",
       "        text-align: right;\n",
       "    }\n",
       "</style>\n",
       "<table border=\"1\" class=\"dataframe\">\n",
       "  <thead>\n",
       "    <tr style=\"text-align: right;\">\n",
       "      <th></th>\n",
       "      <th>full_name</th>\n",
       "      <th>Topic</th>\n",
       "      <th>Content</th>\n",
       "      <th>Date</th>\n",
       "      <th>Likes</th>\n",
       "      <th>Comments</th>\n",
       "    </tr>\n",
       "  </thead>\n",
       "  <tbody>\n",
       "    <tr>\n",
       "      <th>0</th>\n",
       "      <td>Qi L</td>\n",
       "      <td>General</td>\n",
       "      <td>Hello World!</td>\n",
       "      <td>2023-11-09</td>\n",
       "      <td>0</td>\n",
       "      <td>0</td>\n",
       "    </tr>\n",
       "    <tr>\n",
       "      <th>1</th>\n",
       "      <td>Sam A</td>\n",
       "      <td>General</td>\n",
       "      <td>Hello NoSQL!</td>\n",
       "      <td>2023-11-09</td>\n",
       "      <td>0</td>\n",
       "      <td>0</td>\n",
       "    </tr>\n",
       "    <tr>\n",
       "      <th>2</th>\n",
       "      <td>Promod R</td>\n",
       "      <td>General</td>\n",
       "      <td>Hello Graph!</td>\n",
       "      <td>2023-11-09</td>\n",
       "      <td>0</td>\n",
       "      <td>0</td>\n",
       "    </tr>\n",
       "  </tbody>\n",
       "</table>\n",
       "</div>"
      ],
      "text/plain": [
       "  full_name    Topic       Content        Date  Likes  Comments\n",
       "0      Qi L  General  Hello World!  2023-11-09      0         0\n",
       "1     Sam A  General  Hello NoSQL!  2023-11-09      0         0\n",
       "2  Promod R  General  Hello Graph!  2023-11-09      0         0"
      ]
     },
     "metadata": {},
     "output_type": "display_data"
    }
   ],
   "source": [
    "# Find all Users who posted a specific topic of Post (topic is a property of Post)\n",
    "query = '''\n",
    "    MATCH (u: User)-[:POSTED]->(p: Post)\n",
    "    WHERE p.topic = 'General'\n",
    "    RETURN u.first_name + ' ' + u.last_name AS full_name, p.topic as Topic, p.content as Content, p.date as Date, p.likes_count as Likes, p.comments_count as Comments\n",
    "'''\n",
    "df = run_query_to_pandas(session, query)\n",
    "display(df)"
   ]
  },
  {
   "cell_type": "code",
   "execution_count": 64,
   "metadata": {},
   "outputs": [
    {
     "data": {
      "text/html": [
       "<div>\n",
       "<style scoped>\n",
       "    .dataframe tbody tr th:only-of-type {\n",
       "        vertical-align: middle;\n",
       "    }\n",
       "\n",
       "    .dataframe tbody tr th {\n",
       "        vertical-align: top;\n",
       "    }\n",
       "\n",
       "    .dataframe thead th {\n",
       "        text-align: right;\n",
       "    }\n",
       "</style>\n",
       "<table border=\"1\" class=\"dataframe\">\n",
       "  <thead>\n",
       "    <tr style=\"text-align: right;\">\n",
       "      <th></th>\n",
       "      <th>User1</th>\n",
       "      <th>User2</th>\n",
       "      <th>common_interests</th>\n",
       "    </tr>\n",
       "  </thead>\n",
       "  <tbody>\n",
       "    <tr>\n",
       "      <th>0</th>\n",
       "      <td>Qi L</td>\n",
       "      <td>Ji N</td>\n",
       "      <td>[cooking]</td>\n",
       "    </tr>\n",
       "  </tbody>\n",
       "</table>\n",
       "</div>"
      ],
      "text/plain": [
       "  User1 User2 common_interests\n",
       "0  Qi L  Ji N        [cooking]"
      ]
     },
     "metadata": {},
     "output_type": "display_data"
    }
   ],
   "source": [
    "# Find common interests between two specific Users. \n",
    "query = '''\n",
    "    MATCH (user1:User {username: 'qlin1'}), (user2:User {username: 'ji1'})\n",
    "    RETURN user1.first_name + ' ' + user1.last_name AS User1, \n",
    "        user2.first_name + ' ' + user2.last_name AS User2, \n",
    "        [val IN user1.interests WHERE val IN user2.interests] AS common_interests\n",
    "'''\n",
    "df = run_query_to_pandas(session, query)\n",
    "display(df)\n"
   ]
  },
  {
   "cell_type": "code",
   "execution_count": 25,
   "metadata": {},
   "outputs": [
    {
     "data": {
      "text/html": [
       "<div>\n",
       "<style scoped>\n",
       "    .dataframe tbody tr th:only-of-type {\n",
       "        vertical-align: middle;\n",
       "    }\n",
       "\n",
       "    .dataframe tbody tr th {\n",
       "        vertical-align: top;\n",
       "    }\n",
       "\n",
       "    .dataframe thead th {\n",
       "        text-align: right;\n",
       "    }\n",
       "</style>\n",
       "<table border=\"1\" class=\"dataframe\">\n",
       "  <thead>\n",
       "    <tr style=\"text-align: right;\">\n",
       "      <th></th>\n",
       "      <th>full_name</th>\n",
       "      <th>Posts</th>\n",
       "    </tr>\n",
       "  </thead>\n",
       "  <tbody>\n",
       "    <tr>\n",
       "      <th>0</th>\n",
       "      <td>Qi L</td>\n",
       "      <td>1</td>\n",
       "    </tr>\n",
       "    <tr>\n",
       "      <th>1</th>\n",
       "      <td>Sam A</td>\n",
       "      <td>1</td>\n",
       "    </tr>\n",
       "    <tr>\n",
       "      <th>2</th>\n",
       "      <td>Promod R</td>\n",
       "      <td>1</td>\n",
       "    </tr>\n",
       "  </tbody>\n",
       "</table>\n",
       "</div>"
      ],
      "text/plain": [
       "  full_name  Posts\n",
       "0      Qi L      1\n",
       "1     Sam A      1\n",
       "2  Promod R      1"
      ]
     },
     "metadata": {},
     "output_type": "display_data"
    }
   ],
   "source": [
    "# Retrieve top 3 Users who created most Posts\n",
    "query = '''\n",
    "    MATCH (u: User)-[:POSTED]->(p: Post)\n",
    "    RETURN u.first_name + ' ' + u.last_name AS full_name, count(p) as Posts\n",
    "    ORDER BY Posts DESC\n",
    "    LIMIT 3\n",
    "'''\n",
    "df = run_query_to_pandas(session, query)\n",
    "display(df)"
   ]
  },
  {
   "cell_type": "code",
   "execution_count": 31,
   "metadata": {},
   "outputs": [
    {
     "data": {
      "text/html": [
       "<div>\n",
       "<style scoped>\n",
       "    .dataframe tbody tr th:only-of-type {\n",
       "        vertical-align: middle;\n",
       "    }\n",
       "\n",
       "    .dataframe tbody tr th {\n",
       "        vertical-align: top;\n",
       "    }\n",
       "\n",
       "    .dataframe thead th {\n",
       "        text-align: right;\n",
       "    }\n",
       "</style>\n",
       "<table border=\"1\" class=\"dataframe\">\n",
       "  <thead>\n",
       "    <tr style=\"text-align: right;\">\n",
       "      <th></th>\n",
       "      <th>full_name</th>\n",
       "    </tr>\n",
       "  </thead>\n",
       "  <tbody>\n",
       "    <tr>\n",
       "      <th>0</th>\n",
       "      <td>Ji N</td>\n",
       "    </tr>\n",
       "  </tbody>\n",
       "</table>\n",
       "</div>"
      ],
      "text/plain": [
       "  full_name\n",
       "0      Ji N"
      ]
     },
     "metadata": {},
     "output_type": "display_data"
    }
   ],
   "source": [
    "# Retrieve Users who haven’t created any Posts\n",
    "query = '''\n",
    "    MATCH (u: User)\n",
    "    WHERE NOT (u)-[:POSTED]->(: Post)\n",
    "    RETURN u.first_name + ' ' + u.last_name AS full_name\n",
    "'''\n",
    "df = run_query_to_pandas(session, query)\n",
    "display(df)"
   ]
  },
  {
   "cell_type": "code",
   "execution_count": 83,
   "metadata": {},
   "outputs": [
    {
     "data": {
      "text/html": [
       "<div>\n",
       "<style scoped>\n",
       "    .dataframe tbody tr th:only-of-type {\n",
       "        vertical-align: middle;\n",
       "    }\n",
       "\n",
       "    .dataframe tbody tr th {\n",
       "        vertical-align: top;\n",
       "    }\n",
       "\n",
       "    .dataframe thead th {\n",
       "        text-align: right;\n",
       "    }\n",
       "</style>\n",
       "<table border=\"1\" class=\"dataframe\">\n",
       "  <thead>\n",
       "    <tr style=\"text-align: right;\">\n",
       "      <th></th>\n",
       "      <th>Connecting_Path</th>\n",
       "    </tr>\n",
       "  </thead>\n",
       "  <tbody>\n",
       "    <tr>\n",
       "      <th>0</th>\n",
       "      <td>[Qi, Ji, Minu]</td>\n",
       "    </tr>\n",
       "  </tbody>\n",
       "</table>\n",
       "</div>"
      ],
      "text/plain": [
       "  Connecting_Path\n",
       "0  [Qi, Ji, Minu]"
      ]
     },
     "metadata": {},
     "output_type": "display_data"
    }
   ],
   "source": [
    "# Given two Users, identify if they are indirectly connected through a chain of friends and, if so, return the connecting path. \n",
    "# For instance, can you find a relationship path where Alice is friends with someone (say, Bob), who in turn is friends with Charlie?\n",
    "query = '''\n",
    "MATCH path = (startUser:User {username: 'qlin1'})-[:FRIENDS_WITH*2]-(endUser:User {username: 'minu1'})\n",
    "RETURN [node IN nodes(path) | node.first_name] AS Connecting_Path\n",
    "'''\n",
    "df = run_query_to_pandas(session, query)\n",
    "display(df)"
   ]
  },
  {
   "cell_type": "code",
   "execution_count": 87,
   "metadata": {},
   "outputs": [
    {
     "data": {
      "text/html": [
       "<div>\n",
       "<style scoped>\n",
       "    .dataframe tbody tr th:only-of-type {\n",
       "        vertical-align: middle;\n",
       "    }\n",
       "\n",
       "    .dataframe tbody tr th {\n",
       "        vertical-align: top;\n",
       "    }\n",
       "\n",
       "    .dataframe thead th {\n",
       "        text-align: right;\n",
       "    }\n",
       "</style>\n",
       "<table border=\"1\" class=\"dataframe\">\n",
       "  <thead>\n",
       "    <tr style=\"text-align: right;\">\n",
       "      <th></th>\n",
       "      <th>full_name</th>\n",
       "    </tr>\n",
       "  </thead>\n",
       "  <tbody>\n",
       "    <tr>\n",
       "      <th>0</th>\n",
       "      <td>John P</td>\n",
       "    </tr>\n",
       "  </tbody>\n",
       "</table>\n",
       "</div>"
      ],
      "text/plain": [
       "  full_name\n",
       "0    John P"
      ]
     },
     "metadata": {},
     "output_type": "display_data"
    }
   ],
   "source": [
    "# Write a query to identify orphaned Users (Users who have no connections). \n",
    "# Can you think of a scenario when this information is useful?\n",
    "query = '''\n",
    "    MATCH (u: User)\n",
    "    WHERE NOT (u)-[:FRIENDS_WITH]-(: User)\n",
    "    RETURN u.first_name + ' ' + u.last_name AS full_name\n",
    "'''\n",
    "df = run_query_to_pandas(session, query)\n",
    "display(df)\n",
    "\n",
    "# Answer: Identifying orphaned users can help the network manager reach out and engage these users to increase their connection within the community.\n",
    "# Beaus orphaned users may be at higher risk of leaving the service due to a lack of engagement. \n",
    "# Identifying these users can help implement user retention strategies targeted at increasing their network and engagement."
   ]
  }
 ],
 "metadata": {
  "kernelspec": {
   "display_name": "Python 3",
   "language": "python",
   "name": "python3"
  },
  "language_info": {
   "codemirror_mode": {
    "name": "ipython",
    "version": 3
   },
   "file_extension": ".py",
   "mimetype": "text/x-python",
   "name": "python",
   "nbconvert_exporter": "python",
   "pygments_lexer": "ipython3",
   "version": "3.9.6"
  }
 },
 "nbformat": 4,
 "nbformat_minor": 2
}
